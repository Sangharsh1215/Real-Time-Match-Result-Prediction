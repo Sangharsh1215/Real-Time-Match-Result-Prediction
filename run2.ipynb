{
 "cells": [
  {
   "cell_type": "code",
   "execution_count": null,
   "metadata": {},
   "outputs": [],
   "source": [
    "import papermill as pm\n",
    "\n",
    "notebook_input_path = r\"C:\\Users\\Sangharsh\\Desktop\\git\\Real-Time-Match-Result-Prediction\\update.ipynb\"\n",
    "notebook_output_path = r\"C:\\Users\\Sangharsh\\Desktop\\git\\Real-Time-Match-Result-Prediction\\output.ipynb\"\n",
    "\n",
    "pm.execute_notebook(notebook_input_path, notebook_output_path)"
   ]
  },
  {
   "cell_type": "code",
   "execution_count": null,
   "metadata": {},
   "outputs": [],
   "source": [
    "import papermill as pm\n",
    "\n",
    "notebook_input_path = r\"C:\\Users\\Sangharsh\\Desktop\\git\\Real-Time-Match-Result-Prediction\\model\\model.ipynb\"\n",
    "notebook_output_path = r\"C:\\Users\\Sangharsh\\Desktop\\git\\Real-Time-Match-Result-Prediction\\output.ipynb\"\n",
    "\n",
    "pm.execute_notebook(notebook_input_path, notebook_output_path)"
   ]
  }
 ],
 "metadata": {
  "kernelspec": {
   "display_name": "Python 3",
   "language": "python",
   "name": "python3"
  },
  "language_info": {
   "codemirror_mode": {
    "name": "ipython",
    "version": 3
   },
   "file_extension": ".py",
   "mimetype": "text/x-python",
   "name": "python",
   "nbconvert_exporter": "python",
   "pygments_lexer": "ipython3",
   "version": "3.11.5"
  }
 },
 "nbformat": 4,
 "nbformat_minor": 2
}
