{
 "cells": [
  {
   "cell_type": "code",
   "execution_count": 66,
   "metadata": {},
   "outputs": [],
   "source": [
    "import pandas as pd\n",
    "\n",
    "\n",
    "fixtures_path = r'C:\\Users\\Sangharsh\\Desktop\\git\\Real-Time-Match-Result-Prediction\\Current_Fixtures_result.csv'\n",
    "league_table_path = r'C:\\Users\\Sangharsh\\Desktop\\git\\Real-Time-Match-Result-Prediction\\Current_Premier_League_Table.csv'\n",
    "squad_stats_path = r'C:\\Users\\Sangharsh\\Desktop\\git\\Real-Time-Match-Result-Prediction\\Current_Squad_Stats.csv'\n",
    "\n",
    "\n",
    "fixtures_df = pd.read_csv(fixtures_path)\n",
    "league_table_df = pd.read_csv(league_table_path)\n",
    "squad_stats_df = pd.read_csv(squad_stats_path)\n"
   ]
  },
  {
   "cell_type": "code",
   "execution_count": 67,
   "metadata": {},
   "outputs": [],
   "source": [
    "def parse_result(score):\n",
    "    if isinstance(score, str):  \n",
    "        try:\n",
    "            home_score, away_score = map(int, score.split('–'))  \n",
    "            if home_score > away_score:\n",
    "                return 1  \n",
    "            elif home_score < away_score:\n",
    "                return -1  \n",
    "            else:\n",
    "                return 0  \n",
    "        except ValueError:\n",
    "            return None  \n",
    "    return None  \n",
    "\n",
    "fixtures_df['Result'] = fixtures_df['Score'].apply(parse_result)\n",
    "fixtures_df_cleaned = fixtures_df[['Home', 'Away', 'xG', 'xG.1', 'Result']].dropna()\n",
    "\n"
   ]
  },
  {
   "cell_type": "code",
   "execution_count": 68,
   "metadata": {},
   "outputs": [],
   "source": [
    "\n",
    "league_table_df = league_table_df.add_prefix('Team_')\n",
    "squad_stats_df = squad_stats_df.add_prefix('Team_')\n",
    "\n",
    "merged_data = pd.merge(\n",
    "    fixtures_df_cleaned,  \n",
    "    league_table_df.add_prefix('Home_'), \n",
    "    left_on='Home',  \n",
    "    right_on='Home_Team_Squad', \n",
    "    how='left'\n",
    ")\n",
    "\n",
    "merged_data = pd.merge(\n",
    "    merged_data,\n",
    "    league_table_df.add_prefix('Away_'),  \n",
    "    left_on='Away',  \n",
    "    right_on='Away_Team_Squad',  \n",
    "    how='left'\n",
    ")\n",
    "\n",
    "merged_data = pd.merge(\n",
    "    merged_data,\n",
    "    squad_stats_df.add_prefix('Home_'),  \n",
    "    left_on='Home',\n",
    "    right_on='Home_Team_Squad',\n",
    "    how='left'\n",
    ")\n",
    "\n",
    "merged_data = pd.merge(\n",
    "    merged_data,\n",
    "    squad_stats_df.add_prefix('Away_'),  \n",
    "    left_on='Away',\n",
    "    right_on='Away_Team_Squad',\n",
    "    how='left'\n",
    ")\n",
    "\n"
   ]
  },
  {
   "cell_type": "code",
   "execution_count": 69,
   "metadata": {},
   "outputs": [],
   "source": [
    "\n",
    "columns_to_drop = [\n",
    "    'Home_Team_Squad_y', 'Away_Team_Squad_y', \n",
    "    'Home_Team_Squad_x', 'Away_Team_Squad_x', \n",
    "    'Home_Team_Top Team Scorer', 'Away_Team_Top Team Scorer', \n",
    "    'Home_Team_Goalkeeper', 'Away_Team_Goalkeeper',\n",
    "    'Home_Team_MP_x', 'Away_Team_MP_x',  \n",
    "    'Home_Team_xG_x', 'Away_Team_xG_x'   \n",
    "]\n",
    "\n",
    "\n",
    "\n",
    "merged_data_cleaned = merged_data.drop(columns=columns_to_drop, errors='ignore')\n",
    "\n",
    "\n"
   ]
  },
  {
   "cell_type": "code",
   "execution_count": 70,
   "metadata": {},
   "outputs": [],
   "source": [
    "merged_data = merged_data_cleaned"
   ]
  },
  {
   "cell_type": "code",
   "execution_count": 71,
   "metadata": {},
   "outputs": [],
   "source": [
    "pd.set_option('display.max_columns', None)\n",
    "pd.set_option('display.max_rows', None)\n"
   ]
  },
  {
   "cell_type": "code",
   "execution_count": 72,
   "metadata": {},
   "outputs": [],
   "source": [
    "def convert_results(result_str):\n",
    "    result_mapping = {'W': 1, 'D': 0, 'L': -1}\n",
    "    result_list = [result_mapping[char] for char in result_str.split()]\n",
    "    return sum(result_list)  \n",
    "\n",
    "merged_data['Home_Team_Last 5'] = merged_data['Home_Team_Last 5'].apply(convert_results)\n",
    "merged_data['Away_Team_Last 5'] = merged_data['Away_Team_Last 5'].apply(convert_results)"
   ]
  },
  {
   "cell_type": "code",
   "execution_count": 73,
   "metadata": {},
   "outputs": [],
   "source": [
    "merged_data.to_csv('merged_data.csv', index=False)"
   ]
  },
  {
   "cell_type": "code",
   "execution_count": 74,
   "metadata": {},
   "outputs": [],
   "source": [
    "merged_data1 = merged_data[['Home', 'Away', 'xG', 'xG.1', 'Result', 'Home_Team_Pts/MP', \n",
    "                            'Away_Team_Pts/MP', 'Home_Team_Last 5', 'Away_Team_Last 5', \n",
    "                            'Home_Team_Rk', 'Away_Team_Rk']]"
   ]
  },
  {
   "cell_type": "code",
   "execution_count": 75,
   "metadata": {},
   "outputs": [
    {
     "name": "stderr",
     "output_type": "stream",
     "text": [
      "C:\\Users\\Sangharsh\\AppData\\Local\\Temp\\ipykernel_14384\\3183478687.py:1: SettingWithCopyWarning: \n",
      "A value is trying to be set on a copy of a slice from a DataFrame\n",
      "\n",
      "See the caveats in the documentation: https://pandas.pydata.org/pandas-docs/stable/user_guide/indexing.html#returning-a-view-versus-a-copy\n",
      "  merged_data1.rename(columns={'xG': 'Home xG', 'xG.1': 'Away xG'}, inplace=True)\n"
     ]
    }
   ],
   "source": [
    "merged_data1.rename(columns={'xG': 'Home xG', 'xG.1': 'Away xG'}, inplace=True)\n"
   ]
  },
  {
   "cell_type": "code",
   "execution_count": 76,
   "metadata": {},
   "outputs": [],
   "source": [
    "df = pd.read_html('https://fbref.com/en/comps/9/2023-2024/2023-2024-Premier-League-Stats', attrs={\"id\": \"results2023-202491_overall\"})[0]\n",
    "df = df.drop(columns=['Notes'])"
   ]
  },
  {
   "cell_type": "code",
   "execution_count": 77,
   "metadata": {},
   "outputs": [],
   "source": [
    "df1 = pd.read_html('https://fbref.com/en/comps/9/2023-2024/schedule/2023-2024-Premier-League-Scores-and-Fixtures', attrs={\"id\": \"sched_2023-2024_9_1\"})[0]\n",
    "df1 = df1.drop(columns=['Notes'])\n",
    "df1 = df1.drop(columns=['Referee'])\n",
    "df1 = df1.drop(columns=['Match Report'])\n",
    "df1 = df1.drop(columns=['Venue'])\n",
    "df1 = df1.drop(columns=['Attendance'])"
   ]
  },
  {
   "cell_type": "code",
   "execution_count": 78,
   "metadata": {},
   "outputs": [],
   "source": [
    "df1 = df1.dropna(subset=['Day'])"
   ]
  },
  {
   "cell_type": "code",
   "execution_count": 79,
   "metadata": {},
   "outputs": [],
   "source": [
    "fixtures_df = df1"
   ]
  },
  {
   "cell_type": "code",
   "execution_count": 80,
   "metadata": {},
   "outputs": [],
   "source": [
    "league_table_df = df"
   ]
  },
  {
   "cell_type": "code",
   "execution_count": 81,
   "metadata": {},
   "outputs": [],
   "source": [
    "def parse_result(score):\n",
    "    if isinstance(score, str):  \n",
    "        try:\n",
    "            home_score, away_score = map(int, score.split('–')) \n",
    "            if home_score > away_score:\n",
    "                return 1  \n",
    "            elif home_score < away_score:\n",
    "                return -1  \n",
    "            else:\n",
    "                return 0 \n",
    "        except ValueError:\n",
    "            return None  \n",
    "    return None  \n",
    "\n",
    "fixtures_df['Result'] = fixtures_df['Score'].apply(parse_result)\n",
    "fixtures_df_cleaned = fixtures_df[['Home', 'Away', 'xG', 'xG.1', 'Result']].dropna()\n"
   ]
  },
  {
   "cell_type": "code",
   "execution_count": 82,
   "metadata": {},
   "outputs": [],
   "source": [
    "import pandas as pd\n",
    "\n",
    "merged_home_df = pd.merge(\n",
    "    fixtures_df_cleaned, \n",
    "    league_table_df[['Squad', 'Rk', 'Pts/MP']], \n",
    "    left_on='Home', \n",
    "    right_on='Squad', \n",
    "    how='left'\n",
    ").rename(columns={'Rk': 'Home_Rk', 'Pts/MP': 'Home_Pts_MP'}).drop(columns='Squad')\n",
    "\n",
    "\n",
    "final_merged_df = pd.merge(\n",
    "    merged_home_df, \n",
    "    league_table_df[['Squad', 'Rk', 'Pts/MP']], \n",
    "    left_on='Away', \n",
    "    right_on='Squad', \n",
    "    how='left'\n",
    ").rename(columns={'Rk': 'Away_Rk', 'Pts/MP': 'Away_Pts_MP'}).drop(columns='Squad')\n",
    "\n",
    "\n"
   ]
  },
  {
   "cell_type": "code",
   "execution_count": 83,
   "metadata": {},
   "outputs": [],
   "source": [
    "merged_data1 = merged_data1.drop(columns=['Home_Team_Last 5'])\n",
    "merged_data1 = merged_data1.drop(columns=['Away_Team_Last 5'])"
   ]
  },
  {
   "cell_type": "code",
   "execution_count": 84,
   "metadata": {},
   "outputs": [],
   "source": [
    "final_merged_df.rename(columns={'xG': 'Home xG', 'xG.1': 'Away xG'}, inplace=True)\n",
    "final_merged_df.rename(columns={'Home_Rk': 'Home_Team_Rk', 'Away_Rk': 'Away_Team_Rk', 'Home_Pts_MP': 'Home_Team_Pts/MP', 'Away_Pts_MP': 'Away_Team_Pts/MP'}, inplace=True)"
   ]
  },
  {
   "cell_type": "code",
   "execution_count": 85,
   "metadata": {},
   "outputs": [],
   "source": [
    "combined_df = pd.concat([merged_data1, final_merged_df], ignore_index=True)"
   ]
  },
  {
   "cell_type": "code",
   "execution_count": 86,
   "metadata": {},
   "outputs": [],
   "source": [
    "combined_df['Rank Diff'] = combined_df['Home_Team_Rk'] - combined_df['Away_Team_Rk']"
   ]
  },
  {
   "cell_type": "code",
   "execution_count": 87,
   "metadata": {},
   "outputs": [],
   "source": [
    "combined_df['Pts/MP Diff'] = combined_df['Home_Team_Pts/MP'] - combined_df['Away_Team_Pts/MP']"
   ]
  },
  {
   "cell_type": "code",
   "execution_count": 88,
   "metadata": {},
   "outputs": [],
   "source": [
    "combined_df['xG Diff'] = combined_df['Home xG'] - merged_data1['Away xG']"
   ]
  },
  {
   "cell_type": "code",
   "execution_count": 89,
   "metadata": {},
   "outputs": [],
   "source": [
    "combined_df.to_csv('combined.csv', index=False)"
   ]
  },
  {
   "cell_type": "code",
   "execution_count": 90,
   "metadata": {},
   "outputs": [],
   "source": [
    "df = combined_df"
   ]
  },
  {
   "cell_type": "code",
   "execution_count": 91,
   "metadata": {},
   "outputs": [
    {
     "data": {
      "text/plain": [
       "((344, 11), (86, 11), (344,), (86,))"
      ]
     },
     "execution_count": 91,
     "metadata": {},
     "output_type": "execute_result"
    }
   ],
   "source": [
    "from sklearn.model_selection import train_test_split\n",
    "from sklearn.preprocessing import LabelEncoder\n",
    "\n",
    "label_encoder_home = LabelEncoder()\n",
    "label_encoder_away = LabelEncoder()\n",
    "\n",
    "df['Home_encoded'] = label_encoder_home.fit_transform(df['Home'])\n",
    "df['Away_encoded'] = label_encoder_away.fit_transform(df['Away'])\n",
    "\n",
    "X = df[['Home_encoded', 'Away_encoded', 'Home xG', 'Away xG', 'Home_Team_Pts/MP', 'Away_Team_Pts/MP', \n",
    "         'Home_Team_Rk', 'Away_Team_Rk', 'Rank Diff', \n",
    "        'Pts/MP Diff', 'xG Diff']]\n",
    "\n",
    "y = df['Result']\n",
    "\n",
    "X_train, X_test, y_train, y_test = train_test_split(X, y, test_size=0.2, random_state=42)\n",
    "\n",
    "X_train.shape, X_test.shape, y_train.shape, y_test.shape\n"
   ]
  },
  {
   "cell_type": "code",
   "execution_count": 92,
   "metadata": {},
   "outputs": [
    {
     "name": "stdout",
     "output_type": "stream",
     "text": [
      "Accuracy: 0.5930232558139535\n"
     ]
    }
   ],
   "source": [
    "from sklearn.ensemble import RandomForestClassifier\n",
    "from sklearn.metrics import accuracy_score\n",
    "\n",
    "\n",
    "rf_model = RandomForestClassifier(n_estimators=100, random_state=42)\n",
    "rf_model.fit(X_train, y_train)\n",
    "\n",
    "\n",
    "y_pred = rf_model.predict(X_test)\n",
    "y_proba = rf_model.predict_proba(X_test)\n",
    "\n",
    "\n",
    "accuracy = accuracy_score(y_test, y_pred)\n",
    "\n",
    "print(f\"Accuracy: {accuracy}\")\n",
    "\n"
   ]
  },
  {
   "cell_type": "code",
   "execution_count": null,
   "metadata": {},
   "outputs": [],
   "source": [
    "\n",
    "def predict_match_result(home_team, away_team, model, df):\n",
    "   \n",
    "    home_encoded = label_encoder_home.transform([home_team])[0]\n",
    "    away_encoded = label_encoder_away.transform([away_team])[0]\n",
    "    home_xg = df.loc[df['Home'] == home_team, 'Home xG'].values[0]\n",
    "    away_xg = df.loc[df['Away'] == away_team, 'Away xG'].values[0]\n",
    "    home_pts_mp = df.loc[df['Home'] == home_team, 'Home_Team_Pts/MP'].values[0]  \n",
    "    away_pts_mp = df.loc[df['Away'] == away_team, 'Away_Team_Pts/MP'].values[0]  \n",
    "    home_rank = df.loc[df['Home'] == home_team, 'Home_Team_Rk'].values[0]\n",
    "    away_rank = df.loc[df['Away'] == away_team, 'Away_Team_Rk'].values[0]\n",
    "    rank_diff = df.loc[df['Home'] == home_team, 'Rank Diff'].values[0]\n",
    "    pts_diff = df.loc[df['Home'] == home_team, 'Pts/MP Diff'].values[0]\n",
    "    xg_diff = df.loc[df['Home'] == home_team, 'xG Diff'].values[0]\n",
    "    \n",
    " \n",
    "    input_data = [[home_encoded, away_encoded, home_xg, away_xg, home_pts_mp, away_pts_mp, \n",
    "                    home_rank, away_rank, rank_diff, pts_diff, xg_diff]]\n",
    "    \n",
    "\n",
    "    probabilities = model.predict_proba(input_data)[0]\n",
    "    \n",
    "    result = {\n",
    "        'Home Win': probabilities[2],\n",
    "        'Draw': probabilities[1],\n",
    "        'Away Win': probabilities[0]\n",
    "    }\n",
    "    \n",
    "    return result\n"
   ]
  },
  {
   "cell_type": "code",
   "execution_count": 94,
   "metadata": {},
   "outputs": [],
   "source": [
    "df2 = pd.read_csv(r\"C:\\Users\\Sangharsh\\Desktop\\git\\Real-Time-Match-Result-Prediction\\Current_Fixtures_result.csv\")"
   ]
  },
  {
   "cell_type": "code",
   "execution_count": 95,
   "metadata": {},
   "outputs": [],
   "source": [
    "nan_rows = df2[df2['Score'].isna()][['Home', 'Away']].head(10)"
   ]
  },
  {
   "cell_type": "code",
   "execution_count": 96,
   "metadata": {},
   "outputs": [
    {
     "name": "stdout",
     "output_type": "stream",
     "text": [
      "Match: Newcastle Utd vs Manchester City\n",
      "Predicted Result: {'Home Win': 0.3990889867148072, 'Draw': 0.29037711111643627, 'Away Win': 0.3105339021687564}\n",
      "----------------------------------------\n",
      "Match: Chelsea vs Brighton\n",
      "Predicted Result: {'Home Win': 0.28410922286220747, 'Draw': 0.25680790319485797, 'Away Win': 0.4590828739429346}\n",
      "----------------------------------------\n",
      "Match: Arsenal vs Leicester City\n",
      "Predicted Result: {'Home Win': 0.6783013725188397, 'Draw': 0.18981118949993356, 'Away Win': 0.1318874379812266}\n",
      "----------------------------------------\n",
      "Match: Brentford vs West Ham\n",
      "Predicted Result: {'Home Win': 0.49287645054685014, 'Draw': 0.2659454693103344, 'Away Win': 0.2411780801428152}\n",
      "----------------------------------------\n",
      "Match: Everton vs Crystal Palace\n",
      "Predicted Result: {'Home Win': 0.1697671356320787, 'Draw': 0.18871403879213908, 'Away Win': 0.6415188255757822}\n",
      "----------------------------------------\n",
      "Match: Nott'ham Forest vs Fulham\n",
      "Predicted Result: {'Home Win': 0.4890143531840224, 'Draw': 0.27463271545207885, 'Away Win': 0.23635293136389854}\n",
      "----------------------------------------\n",
      "Match: Wolves vs Liverpool\n",
      "Predicted Result: {'Home Win': 0.09983760340389, 'Draw': 0.16382780918718218, 'Away Win': 0.7363345874089277}\n",
      "----------------------------------------\n",
      "Match: Ipswich Town vs Aston Villa\n",
      "Predicted Result: {'Home Win': 0.08926254873096702, 'Draw': 0.11893935332266051, 'Away Win': 0.7917980979463721}\n",
      "----------------------------------------\n",
      "Match: Manchester Utd vs Tottenham\n",
      "Predicted Result: {'Home Win': 0.48662213185740255, 'Draw': 0.25585872424962103, 'Away Win': 0.2575191438929764}\n",
      "----------------------------------------\n",
      "Match: Bournemouth vs Southampton\n",
      "Predicted Result: {'Home Win': 0.24266870963218368, 'Draw': 0.25854694535029826, 'Away Win': 0.49878434501751806}\n",
      "----------------------------------------\n"
     ]
    },
    {
     "name": "stderr",
     "output_type": "stream",
     "text": [
      "c:\\Users\\Sangharsh\\AppData\\Local\\Programs\\Python\\Python311\\Lib\\site-packages\\sklearn\\base.py:493: UserWarning: X does not have valid feature names, but RandomForestClassifier was fitted with feature names\n",
      "  warnings.warn(\n",
      "c:\\Users\\Sangharsh\\AppData\\Local\\Programs\\Python\\Python311\\Lib\\site-packages\\sklearn\\base.py:493: UserWarning: X does not have valid feature names, but RandomForestClassifier was fitted with feature names\n",
      "  warnings.warn(\n",
      "c:\\Users\\Sangharsh\\AppData\\Local\\Programs\\Python\\Python311\\Lib\\site-packages\\sklearn\\base.py:493: UserWarning: X does not have valid feature names, but RandomForestClassifier was fitted with feature names\n",
      "  warnings.warn(\n",
      "c:\\Users\\Sangharsh\\AppData\\Local\\Programs\\Python\\Python311\\Lib\\site-packages\\sklearn\\base.py:493: UserWarning: X does not have valid feature names, but RandomForestClassifier was fitted with feature names\n",
      "  warnings.warn(\n",
      "c:\\Users\\Sangharsh\\AppData\\Local\\Programs\\Python\\Python311\\Lib\\site-packages\\sklearn\\base.py:493: UserWarning: X does not have valid feature names, but RandomForestClassifier was fitted with feature names\n",
      "  warnings.warn(\n",
      "c:\\Users\\Sangharsh\\AppData\\Local\\Programs\\Python\\Python311\\Lib\\site-packages\\sklearn\\base.py:493: UserWarning: X does not have valid feature names, but RandomForestClassifier was fitted with feature names\n",
      "  warnings.warn(\n",
      "c:\\Users\\Sangharsh\\AppData\\Local\\Programs\\Python\\Python311\\Lib\\site-packages\\sklearn\\base.py:493: UserWarning: X does not have valid feature names, but RandomForestClassifier was fitted with feature names\n",
      "  warnings.warn(\n",
      "c:\\Users\\Sangharsh\\AppData\\Local\\Programs\\Python\\Python311\\Lib\\site-packages\\sklearn\\base.py:493: UserWarning: X does not have valid feature names, but RandomForestClassifier was fitted with feature names\n",
      "  warnings.warn(\n",
      "c:\\Users\\Sangharsh\\AppData\\Local\\Programs\\Python\\Python311\\Lib\\site-packages\\sklearn\\base.py:493: UserWarning: X does not have valid feature names, but RandomForestClassifier was fitted with feature names\n",
      "  warnings.warn(\n",
      "c:\\Users\\Sangharsh\\AppData\\Local\\Programs\\Python\\Python311\\Lib\\site-packages\\sklearn\\base.py:493: UserWarning: X does not have valid feature names, but RandomForestClassifier was fitted with feature names\n",
      "  warnings.warn(\n"
     ]
    }
   ],
   "source": [
    "for index, row in nan_rows.iterrows():\n",
    "    home_team = row['Home']\n",
    "    away_team = row['Away']\n",
    "    result = predict_match_result(home_team, away_team, rf_model, df)\n",
    "    \n",
    "    print(f\"Match: {home_team} vs {away_team}\")\n",
    "    print(f\"Predicted Result: {result}\")\n",
    "    print(\"-\" * 40) "
   ]
  }
 ],
 "metadata": {
  "kernelspec": {
   "display_name": "Python 3",
   "language": "python",
   "name": "python3"
  },
  "language_info": {
   "codemirror_mode": {
    "name": "ipython",
    "version": 3
   },
   "file_extension": ".py",
   "mimetype": "text/x-python",
   "name": "python",
   "nbconvert_exporter": "python",
   "pygments_lexer": "ipython3",
   "version": "3.11.5"
  }
 },
 "nbformat": 4,
 "nbformat_minor": 2
}
